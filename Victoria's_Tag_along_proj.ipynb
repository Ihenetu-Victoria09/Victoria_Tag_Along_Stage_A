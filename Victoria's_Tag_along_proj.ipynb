{
  "cells": [
    {
      "cell_type": "markdown",
      "metadata": {
        "id": "view-in-github",
        "colab_type": "text"
      },
      "source": [
        "<a href=\"https://colab.research.google.com/github/Ihenetu-Victoria09/Victoria_Tag_Along_Stage_A/blob/main/Victoria's_Tag_along_proj.ipynb\" target=\"_parent\"><img src=\"https://colab.research.google.com/assets/colab-badge.svg\" alt=\"Open In Colab\"/></a>"
      ]
    },
    {
      "cell_type": "code",
      "execution_count": null,
      "id": "31bc52a9",
      "metadata": {
        "id": "31bc52a9"
      },
      "outputs": [],
      "source": [
        "import pandas as pd"
      ]
    },
    {
      "cell_type": "code",
      "execution_count": null,
      "id": "8b1da2ef",
      "metadata": {
        "id": "8b1da2ef"
      },
      "outputs": [],
      "source": [
        ""
      ]
    },
    {
      "cell_type": "code",
      "execution_count": null,
      "id": "4e9dbb26",
      "metadata": {
        "id": "4e9dbb26",
        "outputId": "eacdfd25-356e-4136-98a7-053b42cf0bf4"
      },
      "outputs": [
        {
          "data": {
            "text/html": [
              "<div>\n",
              "<style scoped>\n",
              "    .dataframe tbody tr th:only-of-type {\n",
              "        vertical-align: middle;\n",
              "    }\n",
              "\n",
              "    .dataframe tbody tr th {\n",
              "        vertical-align: top;\n",
              "    }\n",
              "\n",
              "    .dataframe thead th {\n",
              "        text-align: right;\n",
              "    }\n",
              "</style>\n",
              "<table border=\"1\" class=\"dataframe\">\n",
              "  <thead>\n",
              "    <tr style=\"text-align: right;\">\n",
              "      <th></th>\n",
              "      <th>Unnamed: 0</th>\n",
              "      <th>Unnamed: 0.1</th>\n",
              "      <th>Area Code</th>\n",
              "      <th>Area</th>\n",
              "      <th>Item Code</th>\n",
              "      <th>Item</th>\n",
              "      <th>Element Code</th>\n",
              "      <th>Element</th>\n",
              "      <th>Unit</th>\n",
              "      <th>Y2014</th>\n",
              "      <th>Y2015</th>\n",
              "      <th>Y2016</th>\n",
              "      <th>Y2017</th>\n",
              "      <th>Y2018</th>\n",
              "    </tr>\n",
              "  </thead>\n",
              "  <tbody>\n",
              "    <tr>\n",
              "      <th>0</th>\n",
              "      <td>0</td>\n",
              "      <td>0</td>\n",
              "      <td>4</td>\n",
              "      <td>Algeria</td>\n",
              "      <td>2501</td>\n",
              "      <td>Population</td>\n",
              "      <td>511</td>\n",
              "      <td>Total Population - Both sexes</td>\n",
              "      <td>1000 persons</td>\n",
              "      <td>38924.00</td>\n",
              "      <td>39728.00</td>\n",
              "      <td>40551.00</td>\n",
              "      <td>41389.00</td>\n",
              "      <td>42228.00</td>\n",
              "    </tr>\n",
              "    <tr>\n",
              "      <th>1</th>\n",
              "      <td>1</td>\n",
              "      <td>1</td>\n",
              "      <td>4</td>\n",
              "      <td>Algeria</td>\n",
              "      <td>2501</td>\n",
              "      <td>Population</td>\n",
              "      <td>5301</td>\n",
              "      <td>Domestic supply quantity</td>\n",
              "      <td>1000 tonnes</td>\n",
              "      <td>0.00</td>\n",
              "      <td>0.00</td>\n",
              "      <td>0.00</td>\n",
              "      <td>0.00</td>\n",
              "      <td>0.00</td>\n",
              "    </tr>\n",
              "    <tr>\n",
              "      <th>2</th>\n",
              "      <td>2</td>\n",
              "      <td>2</td>\n",
              "      <td>4</td>\n",
              "      <td>Algeria</td>\n",
              "      <td>2901</td>\n",
              "      <td>Grand Total</td>\n",
              "      <td>664</td>\n",
              "      <td>Food supply (kcal/capita/day)</td>\n",
              "      <td>kcal/capita/day</td>\n",
              "      <td>3377.00</td>\n",
              "      <td>3379.00</td>\n",
              "      <td>3372.00</td>\n",
              "      <td>3341.00</td>\n",
              "      <td>3322.00</td>\n",
              "    </tr>\n",
              "    <tr>\n",
              "      <th>3</th>\n",
              "      <td>3</td>\n",
              "      <td>3</td>\n",
              "      <td>4</td>\n",
              "      <td>Algeria</td>\n",
              "      <td>2901</td>\n",
              "      <td>Grand Total</td>\n",
              "      <td>674</td>\n",
              "      <td>Protein supply quantity (g/capita/day)</td>\n",
              "      <td>g/capita/day</td>\n",
              "      <td>94.90</td>\n",
              "      <td>94.35</td>\n",
              "      <td>94.72</td>\n",
              "      <td>92.82</td>\n",
              "      <td>91.83</td>\n",
              "    </tr>\n",
              "    <tr>\n",
              "      <th>4</th>\n",
              "      <td>4</td>\n",
              "      <td>4</td>\n",
              "      <td>4</td>\n",
              "      <td>Algeria</td>\n",
              "      <td>2901</td>\n",
              "      <td>Grand Total</td>\n",
              "      <td>684</td>\n",
              "      <td>Fat supply quantity (g/capita/day)</td>\n",
              "      <td>g/capita/day</td>\n",
              "      <td>80.06</td>\n",
              "      <td>79.36</td>\n",
              "      <td>77.40</td>\n",
              "      <td>80.19</td>\n",
              "      <td>77.28</td>\n",
              "    </tr>\n",
              "  </tbody>\n",
              "</table>\n",
              "</div>"
            ],
            "text/plain": [
              "   Unnamed: 0  Unnamed: 0.1  Area Code     Area  Item Code         Item  \\\n",
              "0           0             0          4  Algeria       2501   Population   \n",
              "1           1             1          4  Algeria       2501   Population   \n",
              "2           2             2          4  Algeria       2901  Grand Total   \n",
              "3           3             3          4  Algeria       2901  Grand Total   \n",
              "4           4             4          4  Algeria       2901  Grand Total   \n",
              "\n",
              "   Element Code                                 Element             Unit  \\\n",
              "0           511           Total Population - Both sexes     1000 persons   \n",
              "1          5301                Domestic supply quantity      1000 tonnes   \n",
              "2           664           Food supply (kcal/capita/day)  kcal/capita/day   \n",
              "3           674  Protein supply quantity (g/capita/day)     g/capita/day   \n",
              "4           684      Fat supply quantity (g/capita/day)     g/capita/day   \n",
              "\n",
              "      Y2014     Y2015     Y2016     Y2017     Y2018  \n",
              "0  38924.00  39728.00  40551.00  41389.00  42228.00  \n",
              "1      0.00      0.00      0.00      0.00      0.00  \n",
              "2   3377.00   3379.00   3372.00   3341.00   3322.00  \n",
              "3     94.90     94.35     94.72     92.82     91.83  \n",
              "4     80.06     79.36     77.40     80.19     77.28  "
            ]
          },
          "execution_count": 2,
          "metadata": {},
          "output_type": "execute_result"
        }
      ],
      "source": [
        "csv_df = pd.read_csv(\"/Users/Victoria Ihenetu/Desktop/FoodBalanceSheets_E_Africa_NOFLAG(4).csv\")\n",
        "csv_df.to_csv(\"/Users/Victoria Ihenetu/Desktop/FoodBalanceSheets_E_Africa_NOFLAG(4).csv\")\n",
        "csv_df.head()"
      ]
    },
    {
      "cell_type": "code",
      "execution_count": null,
      "id": "49861cd1",
      "metadata": {
        "id": "49861cd1",
        "outputId": "9c988b87-8efd-4d9c-b218-ec00b9f7b622"
      },
      "outputs": [
        {
          "data": {
            "text/plain": [
              "<bound method DataFrame.dropna of        Unnamed: 0  Unnamed: 0.1  Unnamed: 0.1.1  Area Code      Area  \\\n",
              "0               0             0               0          4   Algeria   \n",
              "1               1             1               1          4   Algeria   \n",
              "2               2             2               2          4   Algeria   \n",
              "3               3             3               3          4   Algeria   \n",
              "4               4             4               4          4   Algeria   \n",
              "...           ...           ...             ...        ...       ...   \n",
              "60938       60938         60938           60938        181  Zimbabwe   \n",
              "60939       60939         60939           60939        181  Zimbabwe   \n",
              "60940       60940         60940           60940        181  Zimbabwe   \n",
              "60941       60941         60941           60941        181  Zimbabwe   \n",
              "60942       60942         60942           60942        181  Zimbabwe   \n",
              "\n",
              "       Item Code           Item  Element Code  \\\n",
              "0           2501     Population           511   \n",
              "1           2501     Population          5301   \n",
              "2           2901    Grand Total           664   \n",
              "3           2901    Grand Total           674   \n",
              "4           2901    Grand Total           684   \n",
              "...          ...            ...           ...   \n",
              "60938       2899  Miscellaneous          5142   \n",
              "60939       2899  Miscellaneous           645   \n",
              "60940       2899  Miscellaneous           664   \n",
              "60941       2899  Miscellaneous           674   \n",
              "60942       2899  Miscellaneous           684   \n",
              "\n",
              "                                      Element             Unit     Y2014  \\\n",
              "0               Total Population - Both sexes     1000 persons  38924.00   \n",
              "1                    Domestic supply quantity      1000 tonnes      0.00   \n",
              "2               Food supply (kcal/capita/day)  kcal/capita/day   3377.00   \n",
              "3      Protein supply quantity (g/capita/day)     g/capita/day     94.90   \n",
              "4          Fat supply quantity (g/capita/day)     g/capita/day     80.06   \n",
              "...                                       ...              ...       ...   \n",
              "60938                                    Food      1000 tonnes     42.00   \n",
              "60939     Food supply quantity (kg/capita/yr)               kg      3.06   \n",
              "60940           Food supply (kcal/capita/day)  kcal/capita/day      3.00   \n",
              "60941  Protein supply quantity (g/capita/day)     g/capita/day      0.10   \n",
              "60942      Fat supply quantity (g/capita/day)     g/capita/day      0.04   \n",
              "\n",
              "          Y2015     Y2016     Y2017     Y2018  \n",
              "0      39728.00  40551.00  41389.00  42228.00  \n",
              "1          0.00      0.00      0.00      0.00  \n",
              "2       3379.00   3372.00   3341.00   3322.00  \n",
              "3         94.35     94.72     92.82     91.83  \n",
              "4         79.36     77.40     80.19     77.28  \n",
              "...         ...       ...       ...       ...  \n",
              "60938     46.00     33.00     19.00     16.00  \n",
              "60939      3.33      2.35      1.33      1.08  \n",
              "60940      4.00      3.00      1.00      1.00  \n",
              "60941      0.11      0.08      0.04      0.04  \n",
              "60942      0.05      0.03      0.02      0.01  \n",
              "\n",
              "[60943 rows x 15 columns]>"
            ]
          },
          "execution_count": 9,
          "metadata": {},
          "output_type": "execute_result"
        }
      ],
      "source": [
        "FBS_df = pd.read_csv(\"/Users/Victoria Ihenetu/Desktop/FoodBalanceSheets_E_Africa_NOFLAG(4).csv\")\n",
        "FBS_df.dropna"
      ]
    },
    {
      "cell_type": "code",
      "execution_count": null,
      "id": "7fe5c10a",
      "metadata": {
        "id": "7fe5c10a",
        "outputId": "d94c5174-d35b-4502-a8cf-7d45df194f29"
      },
      "outputs": [
        {
          "data": {
            "text/html": [
              "<div>\n",
              "<style scoped>\n",
              "    .dataframe tbody tr th:only-of-type {\n",
              "        vertical-align: middle;\n",
              "    }\n",
              "\n",
              "    .dataframe tbody tr th {\n",
              "        vertical-align: top;\n",
              "    }\n",
              "\n",
              "    .dataframe thead th {\n",
              "        text-align: right;\n",
              "    }\n",
              "</style>\n",
              "<table border=\"1\" class=\"dataframe\">\n",
              "  <thead>\n",
              "    <tr style=\"text-align: right;\">\n",
              "      <th></th>\n",
              "      <th>Unnamed: 0</th>\n",
              "      <th>Unnamed: 0.1</th>\n",
              "      <th>Unnamed: 0.1.1</th>\n",
              "      <th>Area Code</th>\n",
              "      <th>Area</th>\n",
              "      <th>Item Code</th>\n",
              "      <th>Item</th>\n",
              "      <th>Element Code</th>\n",
              "      <th>Element</th>\n",
              "      <th>Unit</th>\n",
              "      <th>Y2014</th>\n",
              "      <th>Y2015</th>\n",
              "      <th>Y2016</th>\n",
              "      <th>Y2017</th>\n",
              "      <th>Y2018</th>\n",
              "    </tr>\n",
              "  </thead>\n",
              "  <tbody>\n",
              "    <tr>\n",
              "      <th>0</th>\n",
              "      <td>0</td>\n",
              "      <td>0</td>\n",
              "      <td>0</td>\n",
              "      <td>4</td>\n",
              "      <td>Algeria</td>\n",
              "      <td>2501</td>\n",
              "      <td>Population</td>\n",
              "      <td>511</td>\n",
              "      <td>Total Population - Both sexes</td>\n",
              "      <td>1000 persons</td>\n",
              "      <td>38924.00</td>\n",
              "      <td>39728.00</td>\n",
              "      <td>40551.00</td>\n",
              "      <td>41389.00</td>\n",
              "      <td>42228.00</td>\n",
              "    </tr>\n",
              "    <tr>\n",
              "      <th>1</th>\n",
              "      <td>1</td>\n",
              "      <td>1</td>\n",
              "      <td>1</td>\n",
              "      <td>4</td>\n",
              "      <td>Algeria</td>\n",
              "      <td>2501</td>\n",
              "      <td>Population</td>\n",
              "      <td>5301</td>\n",
              "      <td>Domestic supply quantity</td>\n",
              "      <td>1000 tonnes</td>\n",
              "      <td>0.00</td>\n",
              "      <td>0.00</td>\n",
              "      <td>0.00</td>\n",
              "      <td>0.00</td>\n",
              "      <td>0.00</td>\n",
              "    </tr>\n",
              "    <tr>\n",
              "      <th>2</th>\n",
              "      <td>2</td>\n",
              "      <td>2</td>\n",
              "      <td>2</td>\n",
              "      <td>4</td>\n",
              "      <td>Algeria</td>\n",
              "      <td>2901</td>\n",
              "      <td>Grand Total</td>\n",
              "      <td>664</td>\n",
              "      <td>Food supply (kcal/capita/day)</td>\n",
              "      <td>kcal/capita/day</td>\n",
              "      <td>3377.00</td>\n",
              "      <td>3379.00</td>\n",
              "      <td>3372.00</td>\n",
              "      <td>3341.00</td>\n",
              "      <td>3322.00</td>\n",
              "    </tr>\n",
              "    <tr>\n",
              "      <th>3</th>\n",
              "      <td>3</td>\n",
              "      <td>3</td>\n",
              "      <td>3</td>\n",
              "      <td>4</td>\n",
              "      <td>Algeria</td>\n",
              "      <td>2901</td>\n",
              "      <td>Grand Total</td>\n",
              "      <td>674</td>\n",
              "      <td>Protein supply quantity (g/capita/day)</td>\n",
              "      <td>g/capita/day</td>\n",
              "      <td>94.90</td>\n",
              "      <td>94.35</td>\n",
              "      <td>94.72</td>\n",
              "      <td>92.82</td>\n",
              "      <td>91.83</td>\n",
              "    </tr>\n",
              "    <tr>\n",
              "      <th>4</th>\n",
              "      <td>4</td>\n",
              "      <td>4</td>\n",
              "      <td>4</td>\n",
              "      <td>4</td>\n",
              "      <td>Algeria</td>\n",
              "      <td>2901</td>\n",
              "      <td>Grand Total</td>\n",
              "      <td>684</td>\n",
              "      <td>Fat supply quantity (g/capita/day)</td>\n",
              "      <td>g/capita/day</td>\n",
              "      <td>80.06</td>\n",
              "      <td>79.36</td>\n",
              "      <td>77.40</td>\n",
              "      <td>80.19</td>\n",
              "      <td>77.28</td>\n",
              "    </tr>\n",
              "    <tr>\n",
              "      <th>5</th>\n",
              "      <td>5</td>\n",
              "      <td>5</td>\n",
              "      <td>5</td>\n",
              "      <td>4</td>\n",
              "      <td>Algeria</td>\n",
              "      <td>2903</td>\n",
              "      <td>Vegetal Products</td>\n",
              "      <td>664</td>\n",
              "      <td>Food supply (kcal/capita/day)</td>\n",
              "      <td>kcal/capita/day</td>\n",
              "      <td>2932.00</td>\n",
              "      <td>2958.00</td>\n",
              "      <td>2941.00</td>\n",
              "      <td>2921.00</td>\n",
              "      <td>2932.00</td>\n",
              "    </tr>\n",
              "    <tr>\n",
              "      <th>6</th>\n",
              "      <td>6</td>\n",
              "      <td>6</td>\n",
              "      <td>6</td>\n",
              "      <td>4</td>\n",
              "      <td>Algeria</td>\n",
              "      <td>2903</td>\n",
              "      <td>Vegetal Products</td>\n",
              "      <td>674</td>\n",
              "      <td>Protein supply quantity (g/capita/day)</td>\n",
              "      <td>g/capita/day</td>\n",
              "      <td>67.14</td>\n",
              "      <td>67.38</td>\n",
              "      <td>67.37</td>\n",
              "      <td>66.11</td>\n",
              "      <td>67.10</td>\n",
              "    </tr>\n",
              "    <tr>\n",
              "      <th>7</th>\n",
              "      <td>7</td>\n",
              "      <td>7</td>\n",
              "      <td>7</td>\n",
              "      <td>4</td>\n",
              "      <td>Algeria</td>\n",
              "      <td>2903</td>\n",
              "      <td>Vegetal Products</td>\n",
              "      <td>684</td>\n",
              "      <td>Fat supply quantity (g/capita/day)</td>\n",
              "      <td>g/capita/day</td>\n",
              "      <td>53.84</td>\n",
              "      <td>54.72</td>\n",
              "      <td>52.04</td>\n",
              "      <td>55.59</td>\n",
              "      <td>54.57</td>\n",
              "    </tr>\n",
              "    <tr>\n",
              "      <th>8</th>\n",
              "      <td>8</td>\n",
              "      <td>8</td>\n",
              "      <td>8</td>\n",
              "      <td>4</td>\n",
              "      <td>Algeria</td>\n",
              "      <td>2941</td>\n",
              "      <td>Animal Products</td>\n",
              "      <td>664</td>\n",
              "      <td>Food supply (kcal/capita/day)</td>\n",
              "      <td>kcal/capita/day</td>\n",
              "      <td>444.00</td>\n",
              "      <td>421.00</td>\n",
              "      <td>431.00</td>\n",
              "      <td>421.00</td>\n",
              "      <td>390.00</td>\n",
              "    </tr>\n",
              "    <tr>\n",
              "      <th>9</th>\n",
              "      <td>9</td>\n",
              "      <td>9</td>\n",
              "      <td>9</td>\n",
              "      <td>4</td>\n",
              "      <td>Algeria</td>\n",
              "      <td>2941</td>\n",
              "      <td>Animal Products</td>\n",
              "      <td>674</td>\n",
              "      <td>Protein supply quantity (g/capita/day)</td>\n",
              "      <td>g/capita/day</td>\n",
              "      <td>27.76</td>\n",
              "      <td>26.97</td>\n",
              "      <td>27.35</td>\n",
              "      <td>26.71</td>\n",
              "      <td>24.73</td>\n",
              "    </tr>\n",
              "  </tbody>\n",
              "</table>\n",
              "</div>"
            ],
            "text/plain": [
              "   Unnamed: 0  Unnamed: 0.1  Unnamed: 0.1.1  Area Code     Area  Item Code  \\\n",
              "0           0             0               0          4  Algeria       2501   \n",
              "1           1             1               1          4  Algeria       2501   \n",
              "2           2             2               2          4  Algeria       2901   \n",
              "3           3             3               3          4  Algeria       2901   \n",
              "4           4             4               4          4  Algeria       2901   \n",
              "5           5             5               5          4  Algeria       2903   \n",
              "6           6             6               6          4  Algeria       2903   \n",
              "7           7             7               7          4  Algeria       2903   \n",
              "8           8             8               8          4  Algeria       2941   \n",
              "9           9             9               9          4  Algeria       2941   \n",
              "\n",
              "               Item  Element Code                                 Element  \\\n",
              "0        Population           511           Total Population - Both sexes   \n",
              "1        Population          5301                Domestic supply quantity   \n",
              "2       Grand Total           664           Food supply (kcal/capita/day)   \n",
              "3       Grand Total           674  Protein supply quantity (g/capita/day)   \n",
              "4       Grand Total           684      Fat supply quantity (g/capita/day)   \n",
              "5  Vegetal Products           664           Food supply (kcal/capita/day)   \n",
              "6  Vegetal Products           674  Protein supply quantity (g/capita/day)   \n",
              "7  Vegetal Products           684      Fat supply quantity (g/capita/day)   \n",
              "8   Animal Products           664           Food supply (kcal/capita/day)   \n",
              "9   Animal Products           674  Protein supply quantity (g/capita/day)   \n",
              "\n",
              "              Unit     Y2014     Y2015     Y2016     Y2017     Y2018  \n",
              "0     1000 persons  38924.00  39728.00  40551.00  41389.00  42228.00  \n",
              "1      1000 tonnes      0.00      0.00      0.00      0.00      0.00  \n",
              "2  kcal/capita/day   3377.00   3379.00   3372.00   3341.00   3322.00  \n",
              "3     g/capita/day     94.90     94.35     94.72     92.82     91.83  \n",
              "4     g/capita/day     80.06     79.36     77.40     80.19     77.28  \n",
              "5  kcal/capita/day   2932.00   2958.00   2941.00   2921.00   2932.00  \n",
              "6     g/capita/day     67.14     67.38     67.37     66.11     67.10  \n",
              "7     g/capita/day     53.84     54.72     52.04     55.59     54.57  \n",
              "8  kcal/capita/day    444.00    421.00    431.00    421.00    390.00  \n",
              "9     g/capita/day     27.76     26.97     27.35     26.71     24.73  "
            ]
          },
          "execution_count": 10,
          "metadata": {},
          "output_type": "execute_result"
        }
      ],
      "source": [
        "FBS_df = pd.read_csv(\"/Users/Victoria Ihenetu/Desktop/FoodBalanceSheets_E_Africa_NOFLAG(4).csv\")\n",
        "FBS_df.to_csv(\"/Users/Victoria Ihenetu/Desktop/FoodBalanceSheets_E_Africa_NOFLAG(4).csv\", index = False)\n",
        "FBS_df.head(10)"
      ]
    },
    {
      "cell_type": "markdown",
      "id": "5fc6a9dd",
      "metadata": {
        "id": "5fc6a9dd"
      },
      "source": [
        "# Total aggregate sum of Animal fat produced in the year 2014 and 2017:\n",
        "# 2014 = 209460.54\n",
        "# 2017 = 269617.53"
      ]
    },
    {
      "cell_type": "code",
      "execution_count": null,
      "id": "981d1a85",
      "metadata": {
        "id": "981d1a85",
        "outputId": "48e01501-95a3-4fb3-fa39-1c88f19d0d4d"
      },
      "outputs": [
        {
          "data": {
            "text/plain": [
              "Item\n",
              "Alcohol, Non-Food        2348.00\n",
              "Alcoholic Beverages     95581.06\n",
              "Animal Products         11547.65\n",
              "Animal fats            269617.53\n",
              "Apples and products     10198.90\n",
              "                         ...    \n",
              "Vegetables, Other      157752.59\n",
              "Vegetal Products       107655.20\n",
              "Wheat and products     240047.62\n",
              "Wine                     4178.02\n",
              "Yams                   229174.59\n",
              "Name: Y2017, Length: 119, dtype: float64"
            ]
          },
          "execution_count": 11,
          "metadata": {},
          "output_type": "execute_result"
        }
      ],
      "source": [
        "FBS_df.groupby('Item')['Y2017'].sum()"
      ]
    },
    {
      "cell_type": "code",
      "execution_count": null,
      "id": "99eb8674",
      "metadata": {
        "id": "99eb8674"
      },
      "outputs": [],
      "source": [
        ""
      ]
    },
    {
      "cell_type": "markdown",
      "id": "84a83d23",
      "metadata": {
        "id": "84a83d23"
      },
      "source": [
        "# From the whole dataset the mean and the standard deviation for the year 2015 is: \n",
        "# mean in 3 decimal places =135.24\n",
        "# Standrad deviation in 3 decimal places = 1603.404\n"
      ]
    },
    {
      "cell_type": "code",
      "execution_count": null,
      "id": "f3ca92ec",
      "metadata": {
        "id": "f3ca92ec",
        "outputId": "0a76d0b8-b82e-4e11-910a-b0f27d551f36"
      },
      "outputs": [
        {
          "data": {
            "text/html": [
              "<div>\n",
              "<style scoped>\n",
              "    .dataframe tbody tr th:only-of-type {\n",
              "        vertical-align: middle;\n",
              "    }\n",
              "\n",
              "    .dataframe tbody tr th {\n",
              "        vertical-align: top;\n",
              "    }\n",
              "\n",
              "    .dataframe thead th {\n",
              "        text-align: right;\n",
              "    }\n",
              "</style>\n",
              "<table border=\"1\" class=\"dataframe\">\n",
              "  <thead>\n",
              "    <tr style=\"text-align: right;\">\n",
              "      <th></th>\n",
              "      <th>Unnamed: 0</th>\n",
              "      <th>Unnamed: 0.1</th>\n",
              "      <th>Unnamed: 0.1.1</th>\n",
              "      <th>Area Code</th>\n",
              "      <th>Area</th>\n",
              "      <th>Item Code</th>\n",
              "      <th>Item</th>\n",
              "      <th>Element Code</th>\n",
              "      <th>Element</th>\n",
              "      <th>Unit</th>\n",
              "      <th>Y2014</th>\n",
              "      <th>Y2015</th>\n",
              "      <th>Y2016</th>\n",
              "      <th>Y2017</th>\n",
              "      <th>Y2018</th>\n",
              "    </tr>\n",
              "  </thead>\n",
              "  <tbody>\n",
              "    <tr>\n",
              "      <th>count</th>\n",
              "      <td>60943.000000</td>\n",
              "      <td>60943.000000</td>\n",
              "      <td>60943.000000</td>\n",
              "      <td>60943.000000</td>\n",
              "      <td>60943</td>\n",
              "      <td>60943.000000</td>\n",
              "      <td>60943</td>\n",
              "      <td>60943.000000</td>\n",
              "      <td>60943</td>\n",
              "      <td>60943</td>\n",
              "      <td>59354.000000</td>\n",
              "      <td>59395.000000</td>\n",
              "      <td>59408.000000</td>\n",
              "      <td>59437.000000</td>\n",
              "      <td>59507.000000</td>\n",
              "    </tr>\n",
              "    <tr>\n",
              "      <th>unique</th>\n",
              "      <td>NaN</td>\n",
              "      <td>NaN</td>\n",
              "      <td>NaN</td>\n",
              "      <td>NaN</td>\n",
              "      <td>49</td>\n",
              "      <td>NaN</td>\n",
              "      <td>119</td>\n",
              "      <td>NaN</td>\n",
              "      <td>18</td>\n",
              "      <td>5</td>\n",
              "      <td>NaN</td>\n",
              "      <td>NaN</td>\n",
              "      <td>NaN</td>\n",
              "      <td>NaN</td>\n",
              "      <td>NaN</td>\n",
              "    </tr>\n",
              "    <tr>\n",
              "      <th>top</th>\n",
              "      <td>NaN</td>\n",
              "      <td>NaN</td>\n",
              "      <td>NaN</td>\n",
              "      <td>NaN</td>\n",
              "      <td>Kenya</td>\n",
              "      <td>NaN</td>\n",
              "      <td>Milk - Excluding Butter</td>\n",
              "      <td>NaN</td>\n",
              "      <td>Domestic supply quantity</td>\n",
              "      <td>1000 tonnes</td>\n",
              "      <td>NaN</td>\n",
              "      <td>NaN</td>\n",
              "      <td>NaN</td>\n",
              "      <td>NaN</td>\n",
              "      <td>NaN</td>\n",
              "    </tr>\n",
              "    <tr>\n",
              "      <th>freq</th>\n",
              "      <td>NaN</td>\n",
              "      <td>NaN</td>\n",
              "      <td>NaN</td>\n",
              "      <td>NaN</td>\n",
              "      <td>1560</td>\n",
              "      <td>NaN</td>\n",
              "      <td>1262</td>\n",
              "      <td>NaN</td>\n",
              "      <td>5295</td>\n",
              "      <td>40933</td>\n",
              "      <td>NaN</td>\n",
              "      <td>NaN</td>\n",
              "      <td>NaN</td>\n",
              "      <td>NaN</td>\n",
              "      <td>NaN</td>\n",
              "    </tr>\n",
              "    <tr>\n",
              "      <th>mean</th>\n",
              "      <td>30471.000000</td>\n",
              "      <td>30471.000000</td>\n",
              "      <td>30471.000000</td>\n",
              "      <td>134.265576</td>\n",
              "      <td>NaN</td>\n",
              "      <td>2687.176706</td>\n",
              "      <td>NaN</td>\n",
              "      <td>3814.856456</td>\n",
              "      <td>NaN</td>\n",
              "      <td>NaN</td>\n",
              "      <td>134.196282</td>\n",
              "      <td>135.235966</td>\n",
              "      <td>136.555222</td>\n",
              "      <td>140.917765</td>\n",
              "      <td>143.758381</td>\n",
              "    </tr>\n",
              "    <tr>\n",
              "      <th>std</th>\n",
              "      <td>17592.873065</td>\n",
              "      <td>17592.873065</td>\n",
              "      <td>17592.873065</td>\n",
              "      <td>72.605709</td>\n",
              "      <td>NaN</td>\n",
              "      <td>146.055739</td>\n",
              "      <td>NaN</td>\n",
              "      <td>2212.007033</td>\n",
              "      <td>NaN</td>\n",
              "      <td>NaN</td>\n",
              "      <td>1567.663696</td>\n",
              "      <td>1603.403984</td>\n",
              "      <td>1640.007194</td>\n",
              "      <td>1671.862359</td>\n",
              "      <td>1710.782658</td>\n",
              "    </tr>\n",
              "    <tr>\n",
              "      <th>min</th>\n",
              "      <td>0.000000</td>\n",
              "      <td>0.000000</td>\n",
              "      <td>0.000000</td>\n",
              "      <td>4.000000</td>\n",
              "      <td>NaN</td>\n",
              "      <td>2501.000000</td>\n",
              "      <td>NaN</td>\n",
              "      <td>511.000000</td>\n",
              "      <td>NaN</td>\n",
              "      <td>NaN</td>\n",
              "      <td>-1796.000000</td>\n",
              "      <td>-3161.000000</td>\n",
              "      <td>-3225.000000</td>\n",
              "      <td>-1582.000000</td>\n",
              "      <td>-3396.000000</td>\n",
              "    </tr>\n",
              "    <tr>\n",
              "      <th>25%</th>\n",
              "      <td>15235.500000</td>\n",
              "      <td>15235.500000</td>\n",
              "      <td>15235.500000</td>\n",
              "      <td>74.000000</td>\n",
              "      <td>NaN</td>\n",
              "      <td>2562.000000</td>\n",
              "      <td>NaN</td>\n",
              "      <td>684.000000</td>\n",
              "      <td>NaN</td>\n",
              "      <td>NaN</td>\n",
              "      <td>0.000000</td>\n",
              "      <td>0.000000</td>\n",
              "      <td>0.000000</td>\n",
              "      <td>0.000000</td>\n",
              "      <td>0.000000</td>\n",
              "    </tr>\n",
              "    <tr>\n",
              "      <th>50%</th>\n",
              "      <td>30471.000000</td>\n",
              "      <td>30471.000000</td>\n",
              "      <td>30471.000000</td>\n",
              "      <td>136.000000</td>\n",
              "      <td>NaN</td>\n",
              "      <td>2630.000000</td>\n",
              "      <td>NaN</td>\n",
              "      <td>5142.000000</td>\n",
              "      <td>NaN</td>\n",
              "      <td>NaN</td>\n",
              "      <td>0.090000</td>\n",
              "      <td>0.080000</td>\n",
              "      <td>0.080000</td>\n",
              "      <td>0.100000</td>\n",
              "      <td>0.070000</td>\n",
              "    </tr>\n",
              "    <tr>\n",
              "      <th>75%</th>\n",
              "      <td>45706.500000</td>\n",
              "      <td>45706.500000</td>\n",
              "      <td>45706.500000</td>\n",
              "      <td>195.000000</td>\n",
              "      <td>NaN</td>\n",
              "      <td>2775.000000</td>\n",
              "      <td>NaN</td>\n",
              "      <td>5511.000000</td>\n",
              "      <td>NaN</td>\n",
              "      <td>NaN</td>\n",
              "      <td>8.340000</td>\n",
              "      <td>8.460000</td>\n",
              "      <td>8.430000</td>\n",
              "      <td>9.000000</td>\n",
              "      <td>9.000000</td>\n",
              "    </tr>\n",
              "    <tr>\n",
              "      <th>max</th>\n",
              "      <td>60942.000000</td>\n",
              "      <td>60942.000000</td>\n",
              "      <td>60942.000000</td>\n",
              "      <td>276.000000</td>\n",
              "      <td>NaN</td>\n",
              "      <td>2961.000000</td>\n",
              "      <td>NaN</td>\n",
              "      <td>5911.000000</td>\n",
              "      <td>NaN</td>\n",
              "      <td>NaN</td>\n",
              "      <td>176405.000000</td>\n",
              "      <td>181137.000000</td>\n",
              "      <td>185960.000000</td>\n",
              "      <td>190873.000000</td>\n",
              "      <td>195875.000000</td>\n",
              "    </tr>\n",
              "  </tbody>\n",
              "</table>\n",
              "</div>"
            ],
            "text/plain": [
              "          Unnamed: 0  Unnamed: 0.1  Unnamed: 0.1.1     Area Code   Area  \\\n",
              "count   60943.000000  60943.000000    60943.000000  60943.000000  60943   \n",
              "unique           NaN           NaN             NaN           NaN     49   \n",
              "top              NaN           NaN             NaN           NaN  Kenya   \n",
              "freq             NaN           NaN             NaN           NaN   1560   \n",
              "mean    30471.000000  30471.000000    30471.000000    134.265576    NaN   \n",
              "std     17592.873065  17592.873065    17592.873065     72.605709    NaN   \n",
              "min         0.000000      0.000000        0.000000      4.000000    NaN   \n",
              "25%     15235.500000  15235.500000    15235.500000     74.000000    NaN   \n",
              "50%     30471.000000  30471.000000    30471.000000    136.000000    NaN   \n",
              "75%     45706.500000  45706.500000    45706.500000    195.000000    NaN   \n",
              "max     60942.000000  60942.000000    60942.000000    276.000000    NaN   \n",
              "\n",
              "           Item Code                     Item  Element Code  \\\n",
              "count   60943.000000                    60943  60943.000000   \n",
              "unique           NaN                      119           NaN   \n",
              "top              NaN  Milk - Excluding Butter           NaN   \n",
              "freq             NaN                     1262           NaN   \n",
              "mean     2687.176706                      NaN   3814.856456   \n",
              "std       146.055739                      NaN   2212.007033   \n",
              "min      2501.000000                      NaN    511.000000   \n",
              "25%      2562.000000                      NaN    684.000000   \n",
              "50%      2630.000000                      NaN   5142.000000   \n",
              "75%      2775.000000                      NaN   5511.000000   \n",
              "max      2961.000000                      NaN   5911.000000   \n",
              "\n",
              "                         Element         Unit          Y2014          Y2015  \\\n",
              "count                      60943        60943   59354.000000   59395.000000   \n",
              "unique                        18            5            NaN            NaN   \n",
              "top     Domestic supply quantity  1000 tonnes            NaN            NaN   \n",
              "freq                        5295        40933            NaN            NaN   \n",
              "mean                         NaN          NaN     134.196282     135.235966   \n",
              "std                          NaN          NaN    1567.663696    1603.403984   \n",
              "min                          NaN          NaN   -1796.000000   -3161.000000   \n",
              "25%                          NaN          NaN       0.000000       0.000000   \n",
              "50%                          NaN          NaN       0.090000       0.080000   \n",
              "75%                          NaN          NaN       8.340000       8.460000   \n",
              "max                          NaN          NaN  176405.000000  181137.000000   \n",
              "\n",
              "                Y2016          Y2017          Y2018  \n",
              "count    59408.000000   59437.000000   59507.000000  \n",
              "unique            NaN            NaN            NaN  \n",
              "top               NaN            NaN            NaN  \n",
              "freq              NaN            NaN            NaN  \n",
              "mean       136.555222     140.917765     143.758381  \n",
              "std       1640.007194    1671.862359    1710.782658  \n",
              "min      -3225.000000   -1582.000000   -3396.000000  \n",
              "25%          0.000000       0.000000       0.000000  \n",
              "50%          0.080000       0.100000       0.070000  \n",
              "75%          8.430000       9.000000       9.000000  \n",
              "max     185960.000000  190873.000000  195875.000000  "
            ]
          },
          "execution_count": 5,
          "metadata": {},
          "output_type": "execute_result"
        }
      ],
      "source": [
        "FBS_df = pd.read_csv(\"/Users/Victoria Ihenetu/Desktop/FoodBalanceSheets_E_Africa_NOFLAG(4).csv\")\n",
        "FBS_df.describe(include= \"all\")\n"
      ]
    },
    {
      "cell_type": "code",
      "execution_count": null,
      "id": "16306ec7",
      "metadata": {
        "id": "16306ec7"
      },
      "outputs": [],
      "source": [
        ""
      ]
    },
    {
      "cell_type": "code",
      "execution_count": null,
      "id": "4cf5cf3c",
      "metadata": {
        "id": "4cf5cf3c",
        "outputId": "150180e3-b931-4b65-a27a-0b1c9c151c0c"
      },
      "outputs": [
        {
          "data": {
            "text/plain": [
              "Unnamed: 0           0\n",
              "Unnamed: 0.1         0\n",
              "Unnamed: 0.1.1       0\n",
              "Area Code            0\n",
              "Area                 0\n",
              "Item Code            0\n",
              "Item                 0\n",
              "Element Code         0\n",
              "Element              0\n",
              "Unit                 0\n",
              "Y2014             1589\n",
              "Y2015             1548\n",
              "Y2016             1535\n",
              "Y2017             1506\n",
              "Y2018             1436\n",
              "dtype: int64"
            ]
          },
          "execution_count": 6,
          "metadata": {},
          "output_type": "execute_result"
        }
      ],
      "source": [
        "FBS_df.isnull().sum()"
      ]
    },
    {
      "cell_type": "code",
      "execution_count": null,
      "id": "7ae5a9aa",
      "metadata": {
        "id": "7ae5a9aa"
      },
      "outputs": [],
      "source": [
        "\n",
        "import matplotlib.pyplot as plt\n",
        "import seaborn as sns\n",
        "import matplotlib"
      ]
    },
    {
      "cell_type": "code",
      "execution_count": null,
      "id": "91f70ab1",
      "metadata": {
        "id": "91f70ab1"
      },
      "outputs": [],
      "source": [
        "#plt.figure(figsize=(7,4))\n",
        "#plt.xticks(rotation=90)\n",
        "#plot = pd.DataFrame(FBS_df)\n",
        "#sns.barplot(data=plot, x = 'unit', y = 'count')\n",
        "#plt.xlabel(plot)"
      ]
    },
    {
      "cell_type": "code",
      "execution_count": null,
      "id": "35624085",
      "metadata": {
        "id": "35624085"
      },
      "outputs": [],
      "source": [
        ""
      ]
    },
    {
      "cell_type": "code",
      "execution_count": null,
      "id": "2cf0c151",
      "metadata": {
        "id": "2cf0c151"
      },
      "outputs": [],
      "source": [
        "#sns.barplot(FBS_df, x='unit', y='count')\n",
        "#plt.show()"
      ]
    },
    {
      "cell_type": "markdown",
      "id": "524aa433",
      "metadata": {
        "id": "524aa433"
      },
      "source": [
        "# The year 2017 has the highest sum of Import Quantity"
      ]
    },
    {
      "cell_type": "code",
      "execution_count": null,
      "id": "34883d9f",
      "metadata": {
        "id": "34883d9f",
        "outputId": "80e50eb4-1ff8-4064-b815-15e4162422c5"
      },
      "outputs": [
        {
          "data": {
            "text/plain": [
              "Element\n",
              "Domestic supply quantity                  2161192.10\n",
              "Export Quantity                            181594.80\n",
              "Fat supply quantity (g/capita/day)          10258.69\n",
              "Feed                                       233489.68\n",
              "Food                                      1303841.28\n",
              "Food supply (kcal/capita/day)              455261.00\n",
              "Food supply quantity (kg/capita/yr)         49056.85\n",
              "Import Quantity                            287997.09\n",
              "Losses                                     163902.00\n",
              "Other uses (non-food)                       91300.97\n",
              "Processing                                 308429.00\n",
              "Production                                2075072.89\n",
              "Protein supply quantity (g/capita/day)      11833.56\n",
              "Residuals                                   34864.00\n",
              "Seed                                        25263.14\n",
              "Stock Variation                             20577.91\n",
              "Total Population - Both sexes             1140605.00\n",
              "Tourist consumption                            90.00\n",
              "Name: Y2018, dtype: float64"
            ]
          },
          "execution_count": 15,
          "metadata": {},
          "output_type": "execute_result"
        }
      ],
      "source": [
        "FBS_df.groupby('Element')['Y2018'].sum()"
      ]
    },
    {
      "cell_type": "markdown",
      "id": "3ad52a4c",
      "metadata": {
        "id": "3ad52a4c"
      },
      "source": [
        "# The total sum of production for the year 2014 = 1931287.75"
      ]
    },
    {
      "cell_type": "code",
      "execution_count": null,
      "id": "782947b8",
      "metadata": {
        "id": "782947b8"
      },
      "outputs": [],
      "source": [
        "FBS_df.groupby('Element')['Y2014'].sum()"
      ]
    },
    {
      "cell_type": "markdown",
      "id": "61373217",
      "metadata": {
        "id": "61373217"
      },
      "source": [
        "# In year 2018, Domestic supply quantity has the highest sum = 2161192.10"
      ]
    },
    {
      "cell_type": "code",
      "execution_count": null,
      "id": "15a5d941",
      "metadata": {
        "id": "15a5d941",
        "outputId": "e834b06e-a83c-4886-c7d0-130b59a2e197"
      },
      "outputs": [
        {
          "data": {
            "text/plain": [
              "Element\n",
              "Domestic supply quantity                  2161192.10\n",
              "Export Quantity                            181594.80\n",
              "Fat supply quantity (g/capita/day)          10258.69\n",
              "Feed                                       233489.68\n",
              "Food                                      1303841.28\n",
              "Food supply (kcal/capita/day)              455261.00\n",
              "Food supply quantity (kg/capita/yr)         49056.85\n",
              "Import Quantity                            287997.09\n",
              "Losses                                     163902.00\n",
              "Other uses (non-food)                       91300.97\n",
              "Processing                                 308429.00\n",
              "Production                                2075072.89\n",
              "Protein supply quantity (g/capita/day)      11833.56\n",
              "Residuals                                   34864.00\n",
              "Seed                                        25263.14\n",
              "Stock Variation                             20577.91\n",
              "Total Population - Both sexes             1140605.00\n",
              "Tourist consumption                            90.00\n",
              "Name: Y2018, dtype: float64"
            ]
          },
          "execution_count": 14,
          "metadata": {},
          "output_type": "execute_result"
        }
      ],
      "source": [
        "FBS_df.groupby('Element')['Y2018'].sum()"
      ]
    },
    {
      "cell_type": "markdown",
      "id": "dce4853f",
      "metadata": {
        "id": "dce4853f"
      },
      "source": [
        "# In year 2018, Protein supply quantity (g/capita/day) is the third to the lowest "
      ]
    },
    {
      "cell_type": "code",
      "execution_count": null,
      "id": "0b27baca",
      "metadata": {
        "id": "0b27baca",
        "outputId": "ad05783d-505d-4562-e014-195202deadb4"
      },
      "outputs": [
        {
          "data": {
            "text/plain": [
              "Element\n",
              "Domestic supply quantity                  2161192.10\n",
              "Export Quantity                            181594.80\n",
              "Fat supply quantity (g/capita/day)          10258.69\n",
              "Feed                                       233489.68\n",
              "Food                                      1303841.28\n",
              "Food supply (kcal/capita/day)              455261.00\n",
              "Food supply quantity (kg/capita/yr)         49056.85\n",
              "Import Quantity                            287997.09\n",
              "Losses                                     163902.00\n",
              "Other uses (non-food)                       91300.97\n",
              "Processing                                 308429.00\n",
              "Production                                2075072.89\n",
              "Protein supply quantity (g/capita/day)      11833.56\n",
              "Residuals                                   34864.00\n",
              "Seed                                        25263.14\n",
              "Stock Variation                             20577.91\n",
              "Total Population - Both sexes             1140605.00\n",
              "Tourist consumption                            90.00\n",
              "Name: Y2018, dtype: float64"
            ]
          },
          "execution_count": 13,
          "metadata": {},
          "output_type": "execute_result"
        }
      ],
      "source": [
        "FBS_df.groupby('Element')['Y2018'].sum()"
      ]
    },
    {
      "cell_type": "code",
      "execution_count": null,
      "id": "c2f5572a",
      "metadata": {
        "id": "c2f5572a",
        "outputId": "9638eef3-11cc-4773-9aa9-da745d5d32db"
      },
      "outputs": [
        {
          "name": "stdout",
          "output_type": "stream",
          "text": [
            "0         Algeria\n",
            "1         Algeria\n",
            "2         Algeria\n",
            "3         Algeria\n",
            "4         Algeria\n",
            "           ...   \n",
            "60938    Zimbabwe\n",
            "60939    Zimbabwe\n",
            "60940    Zimbabwe\n",
            "60941    Zimbabwe\n",
            "60942    Zimbabwe\n",
            "Name: Area, Length: 60943, dtype: object\n"
          ]
        }
      ],
      "source": [
        "print(FBS_df['Area'])"
      ]
    },
    {
      "cell_type": "code",
      "execution_count": null,
      "id": "b058b038",
      "metadata": {
        "id": "b058b038",
        "outputId": "8adaac13-cb67-4823-95c7-f5c50a826268"
      },
      "outputs": [
        {
          "data": {
            "text/plain": [
              "Element\n",
              "Domestic supply quantity                  5295\n",
              "Export Quantity                           4403\n",
              "Fat supply quantity (g/capita/day)        5023\n",
              "Feed                                      1319\n",
              "Food                                      4941\n",
              "Food supply (kcal/capita/day)             5014\n",
              "Food supply quantity (kg/capita/yr)       4905\n",
              "Import Quantity                           5139\n",
              "Losses                                    2009\n",
              "Other uses (non-food)                     1732\n",
              "Processing                                2010\n",
              "Production                                3881\n",
              "Protein supply quantity (g/capita/day)    5023\n",
              "Residuals                                 4655\n",
              "Seed                                       762\n",
              "Stock Variation                           4232\n",
              "Total Population - Both sexes               45\n",
              "Tourist consumption                        555\n",
              "Name: Area, dtype: int64"
            ]
          },
          "execution_count": 36,
          "metadata": {},
          "output_type": "execute_result"
        }
      ],
      "source": [
        "FBS_df.groupby('Element')['Area'].count()"
      ]
    },
    {
      "cell_type": "code",
      "execution_count": null,
      "id": "867fbd4d",
      "metadata": {
        "id": "867fbd4d",
        "outputId": "f0d60337-a8af-41dd-df9c-cf5bea92fe0e"
      },
      "outputs": [
        {
          "ename": "SyntaxError",
          "evalue": "invalid syntax (Temp/ipykernel_15944/3579956178.py, line 1)",
          "output_type": "error",
          "traceback": [
            "\u001b[1;36m  File \u001b[1;32m\"C:\\Users\\VICTOR~1\\AppData\\Local\\Temp/ipykernel_15944/3579956178.py\"\u001b[1;36m, line \u001b[1;32m1\u001b[0m\n\u001b[1;33m    FBS_df.groupby('Area'),('Element)['Import Qunatity'].first()\u001b[0m\n\u001b[1;37m                                       ^\u001b[0m\n\u001b[1;31mSyntaxError\u001b[0m\u001b[1;31m:\u001b[0m invalid syntax\n"
          ]
        }
      ],
      "source": [
        "FBS_df.groupby('Area'),('Element)['Import Qunatity'].first()"
      ]
    },
    {
      "cell_type": "code",
      "execution_count": null,
      "id": "ed100678",
      "metadata": {
        "id": "ed100678",
        "outputId": "f95370f0-a27e-4f48-b688-7ca9ef7be8a3"
      },
      "outputs": [
        {
          "name": "stdout",
          "output_type": "stream",
          "text": [
            "60943\n"
          ]
        }
      ],
      "source": [
        ""
      ]
    },
    {
      "cell_type": "markdown",
      "id": "9243ef62",
      "metadata": {
        "id": "9243ef62"
      },
      "source": [
        "# Total Number of unique countries is 49"
      ]
    },
    {
      "cell_type": "code",
      "execution_count": null,
      "id": "ad0ba09b",
      "metadata": {
        "id": "ad0ba09b",
        "outputId": "0bd1a360-8676-49d8-c2c3-645d7ffcfa98"
      },
      "outputs": [
        {
          "data": {
            "text/plain": [
              "Area\n",
              "Algeria                        1313\n",
              "Angola                         1424\n",
              "Benin                          1285\n",
              "Botswana                       1378\n",
              "Burkina Faso                   1409\n",
              "C?te d'Ivoire                  1467\n",
              "Cabo Verde                     1260\n",
              "Cameroon                       1460\n",
              "Central African Republic       1344\n",
              "Chad                           1343\n",
              "Comoros                          45\n",
              "Congo                          1413\n",
              "Djibouti                       1095\n",
              "Egypt                          1488\n",
              "Eswatini                       1284\n",
              "Ethiopia                       1447\n",
              "Ethiopia PDR                     39\n",
              "Gabon                          1245\n",
              "Gambia                         1168\n",
              "Ghana                          1354\n",
              "Guinea                         1410\n",
              "Guinea-Bissau                  1128\n",
              "Kenya                          1560\n",
              "Lesotho                        1150\n",
              "Liberia                        1206\n",
              "Madagascar                     1439\n",
              "Malawi                         1447\n",
              "Mali                           1293\n",
              "Mauritania                     1195\n",
              "Mauritius                      1378\n",
              "Morocco                        1393\n",
              "Mozambique                     1427\n",
              "Namibia                        1283\n",
              "Niger                          1403\n",
              "Nigeria                        1474\n",
              "Rwanda                         1426\n",
              "Sao Tome and Principe          1177\n",
              "Senegal                        1462\n",
              "Seychelles                       68\n",
              "Sierra Leone                   1242\n",
              "South Africa                   1399\n",
              "Sudan                          1316\n",
              "Sudan (former)                   53\n",
              "Togo                           1294\n",
              "Tunisia                        1338\n",
              "Uganda                         1458\n",
              "United Republic of Tanzania    1419\n",
              "Zambia                         1451\n",
              "Zimbabwe                       1393\n",
              "Name: Area, dtype: int64"
            ]
          },
          "execution_count": 57,
          "metadata": {},
          "output_type": "execute_result"
        }
      ],
      "source": [
        "FBS_df.groupby('Area')['Area'].count()"
      ]
    },
    {
      "cell_type": "code",
      "execution_count": null,
      "id": "e6f7c84a",
      "metadata": {
        "id": "e6f7c84a"
      },
      "outputs": [],
      "source": [
        ""
      ]
    }
  ],
  "metadata": {
    "kernelspec": {
      "display_name": "Python 3 (ipykernel)",
      "language": "python",
      "name": "python3"
    },
    "language_info": {
      "codemirror_mode": {
        "name": "ipython",
        "version": 3
      },
      "file_extension": ".py",
      "mimetype": "text/x-python",
      "name": "python",
      "nbconvert_exporter": "python",
      "pygments_lexer": "ipython3",
      "version": "3.9.7"
    },
    "colab": {
      "name": "Victoria's_Tag_along_proj.ipynb",
      "provenance": [],
      "include_colab_link": true
    }
  },
  "nbformat": 4,
  "nbformat_minor": 5
}